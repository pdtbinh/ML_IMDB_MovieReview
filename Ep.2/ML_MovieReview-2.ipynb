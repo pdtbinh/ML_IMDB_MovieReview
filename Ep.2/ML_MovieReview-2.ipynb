{
 "cells": [
  {
   "cell_type": "markdown",
   "metadata": {},
   "source": [
    "# Machine Learning Project Serie 1: \n",
    "# IMDB movie review sentiment classification\n",
    "\n",
    "# Episode 2: Improving Features Encoding\n",
    "\n",
    "This machine learning project will explore the IMDB movie review sentiment classification dataset and try out a few different machine learning approaches to find out which perform the best on such problem. This episode will focus on improving the way features being encoded. Many details will be simplified compared to Episode 1 to focus on features encoding."
   ]
  },
  {
   "cell_type": "markdown",
   "metadata": {},
   "source": [
    "# I. Importing libraries"
   ]
  },
  {
   "cell_type": "code",
   "execution_count": 1,
   "metadata": {},
   "outputs": [
    {
     "name": "stdout",
     "output_type": "stream",
     "text": [
      "WARNING:tensorflow:From /opt/conda/lib/python3.8/site-packages/tensorflow/python/compat/v2_compat.py:96: disable_resource_variables (from tensorflow.python.ops.variable_scope) is deprecated and will be removed in a future version.\n",
      "Instructions for updating:\n",
      "non-resource variables are not supported in the long term\n"
     ]
    }
   ],
   "source": [
    "import math\n",
    "import numpy as np\n",
    "import matplotlib.pyplot as plt\n",
    "import tensorflow.compat.v1 as tf\n",
    "tf.disable_v2_behavior()\n",
    "import keras as K\n",
    "import time\n",
    "import csv"
   ]
  },
  {
   "cell_type": "markdown",
   "metadata": {},
   "source": [
    "# II. Extracting data"
   ]
  },
  {
   "cell_type": "code",
   "execution_count": 2,
   "metadata": {},
   "outputs": [
    {
     "name": "stderr",
     "output_type": "stream",
     "text": [
      "<__array_function__ internals>:5: VisibleDeprecationWarning: Creating an ndarray from ragged nested sequences (which is a list-or-tuple of lists-or-tuples-or ndarrays with different lengths or shapes) is deprecated. If you meant to do this, you must specify 'dtype=object' when creating the ndarray\n",
      "/opt/conda/lib/python3.8/site-packages/tensorflow/python/keras/datasets/imdb.py:159: VisibleDeprecationWarning: Creating an ndarray from ragged nested sequences (which is a list-or-tuple of lists-or-tuples-or ndarrays with different lengths or shapes) is deprecated. If you meant to do this, you must specify 'dtype=object' when creating the ndarray\n",
      "  x_train, y_train = np.array(xs[:idx]), np.array(labels[:idx])\n",
      "/opt/conda/lib/python3.8/site-packages/tensorflow/python/keras/datasets/imdb.py:160: VisibleDeprecationWarning: Creating an ndarray from ragged nested sequences (which is a list-or-tuple of lists-or-tuples-or ndarrays with different lengths or shapes) is deprecated. If you meant to do this, you must specify 'dtype=object' when creating the ndarray\n",
      "  x_test, y_test = np.array(xs[idx:]), np.array(labels[idx:])\n"
     ]
    }
   ],
   "source": [
    "(x_train, y_train), (x_test, y_test) = tf.keras.datasets.imdb.load_data()"
   ]
  },
  {
   "cell_type": "markdown",
   "metadata": {},
   "source": [
    "# III. Investigating datasets"
   ]
  },
  {
   "cell_type": "markdown",
   "metadata": {},
   "source": [
    "### 1. Word dictionary structure"
   ]
  },
  {
   "cell_type": "code",
   "execution_count": 3,
   "metadata": {},
   "outputs": [],
   "source": [
    "word_dict = tf.keras.datasets.imdb.get_word_index(path=\"imdb_word_index.json\")"
   ]
  },
  {
   "cell_type": "code",
   "execution_count": 4,
   "metadata": {},
   "outputs": [],
   "source": [
    "word_dict = dict(sorted(word_dict.items(), key=lambda item: item[1]))"
   ]
  },
  {
   "cell_type": "code",
   "execution_count": 5,
   "metadata": {},
   "outputs": [],
   "source": [
    "word_list = list(word_dict)\n",
    "word_list.insert(0, str(0)) # To make the index of each word matches it position in original dictionary"
   ]
  },
  {
   "cell_type": "markdown",
   "metadata": {},
   "source": [
    "### 2. Ordering word uses in positive/negative comments\n",
    "- 'negative_word_dict' records the number of appearances of each word in negative comments\n",
    "- 'positive_word_dict' records the number of appearances of each word in positive comments"
   ]
  },
  {
   "cell_type": "code",
   "execution_count": 6,
   "metadata": {},
   "outputs": [],
   "source": [
    "def signed_word_dict(sign):\n",
    "    required_word_len = 2\n",
    "    signed_dict = {}\n",
    "    # Loop through all training examples to find examples with labels match input signs\n",
    "    for i in range(len(x_train)):\n",
    "        if y_train[i] == sign:\n",
    "            # Loop through all words in comment and record into signed_dict\n",
    "            for w in set(x_train[i]):\n",
    "                if w < len(word_list) and len(word_list[w]) > required_word_len: # Clean broken data and unhelpful data\n",
    "                    if word_list[w] in signed_dict:\n",
    "                        signed_dict[word_list[w]] += 1\n",
    "                    else:\n",
    "                        signed_dict[word_list[w]] = 1\n",
    "    \n",
    "    return signed_dict"
   ]
  },
  {
   "cell_type": "code",
   "execution_count": 7,
   "metadata": {},
   "outputs": [],
   "source": [
    "# Assign word appearances to their corresponding dictionaries\n",
    "negative_word_dict = signed_word_dict(0)\n",
    "positive_word_dict = signed_word_dict(1)"
   ]
  },
  {
   "cell_type": "code",
   "execution_count": 8,
   "metadata": {},
   "outputs": [
    {
     "name": "stdout",
     "output_type": "stream",
     "text": [
      "#Appearances in negative comments: 839\n",
      "#Appearances in positive comments: 1098\n"
     ]
    }
   ],
   "source": [
    "# Testing a few examples\n",
    "word = 'beautiful'\n",
    "print(\"#Appearances in negative comments:\", negative_word_dict[word])\n",
    "print(\"#Appearances in positive comments:\", positive_word_dict[word])"
   ]
  },
  {
   "cell_type": "markdown",
   "metadata": {},
   "source": [
    "- 'negative_inclined_dict' records the how many times does each word appear $more$ in negative comments than in positive ones\n",
    "- 'positive_inclined_dict' records the how many times does each word appear $more$ in positive comments than in negative ones"
   ]
  },
  {
   "cell_type": "code",
   "execution_count": 9,
   "metadata": {},
   "outputs": [],
   "source": [
    "def sign_inclined_dict(inclined, uninclined):\n",
    "    inclined_dict_output = {} # Output\n",
    "    \n",
    "    # Assign inclined dictionaries\n",
    "    dicts = [negative_word_dict, positive_word_dict]\n",
    "    inclined_dict = dicts[inclined]\n",
    "    uninclined_dict = dicts[uninclined]\n",
    "    \n",
    "    # Loop through all words in the list and record apearance differences\n",
    "    for word in inclined_dict:\n",
    "        if word in uninclined_dict:\n",
    "            inclined_dict_output[word] = inclined_dict[word] - uninclined_dict[word]\n",
    "        else:\n",
    "            inclined_dict_output[word] = inclined_dict[word]\n",
    "    \n",
    "    return inclined_dict_output"
   ]
  },
  {
   "cell_type": "code",
   "execution_count": 10,
   "metadata": {},
   "outputs": [],
   "source": [
    "negative_inclined_dict = sign_inclined_dict(0, 1)\n",
    "negative_inclined_dict = dict(sorted(negative_inclined_dict.items(), reverse=True, key=lambda item: item[1]))\n",
    "\n",
    "negative_inclined_list = list(negative_inclined_dict)"
   ]
  },
  {
   "cell_type": "code",
   "execution_count": 11,
   "metadata": {},
   "outputs": [],
   "source": [
    "positive_inclined_dict = sign_inclined_dict(1, 0)\n",
    "positive_inclined_dict = dict(sorted(positive_inclined_dict.items(), reverse=True, key=lambda item: item[1]))\n",
    "\n",
    "positive_inclined_list = list(positive_inclined_dict)"
   ]
  },
  {
   "cell_type": "code",
   "execution_count": 12,
   "metadata": {},
   "outputs": [
    {
     "name": "stdout",
     "output_type": "stream",
     "text": [
      "['him', 'where', 'did', 'other', 'much', 'time', 'shot', 'small', 'acting', 'version', 'their', 'definitely', 'give', 'point', 'actors', 'into', 'probably', 'movie', 'young', 'these', 'got', 'heart', 'several', 'there', 'starts', 'plot', 'boring', 'whole', 'fight', 'themselves', 'course', \"wasn't\", 'together', 'almost', 'its', 'money', 'say', 'right', 'make', 'humor', 'played', 'having', 'worth', 'town', 'like', 'need', 'working', 'otherwise', 'all', 'many', 'actually', 'itself', 'lines', 'effects', 'find', 'hilarious', 'may', 'use', 'made', 'police', 'down', 'anyone', 'supporting', 'action', 'believe', 'world', 'audience', 'about', 'problems', 'far', 'wonderful', 'seem', 'gets', 'care', 'art', 'help', 'romantic', 'sound', 'box', 'can', 'original', 'hell', 'telling', 'taste', 'hard', 'suspense', 'playing', 'talk', 'how', 'opinion', 'plenty', 'date', 'others', 'lives', 'name', 'television', 'seen', 'want', 'making', 'needs']\n"
     ]
    }
   ],
   "source": [
    "# Testing with a few examples\n",
    "print(positive_inclined_list[:100])"
   ]
  },
  {
   "cell_type": "markdown",
   "metadata": {},
   "source": [
    "# IV. Data preprocessing\n",
    "### 1. Choosing features:\n",
    "From the dictionaries above, I will choose top 150 words that appear more in negative comments and top 150 words that appear more in positive comments as their appearances are likely to drive the sentiment of a comment."
   ]
  },
  {
   "cell_type": "code",
   "execution_count": 13,
   "metadata": {},
   "outputs": [
    {
     "name": "stdout",
     "output_type": "stream",
     "text": [
      "2 chosen lists overlap? False\n"
     ]
    }
   ],
   "source": [
    "# Check if the 2 lists overlap:\n",
    "print(\"2 chosen lists overlap?\", not set(negative_inclined_list[:500]).isdisjoint(set(positive_inclined_list[:500])))"
   ]
  },
  {
   "cell_type": "code",
   "execution_count": 14,
   "metadata": {},
   "outputs": [],
   "source": [
    "max_features = 300  # Choose maximum n most used words\n",
    "required_len = 2     # But exclude the words that does not match required length\n",
    "\n",
    "def choose_word_index():\n",
    "    chosen_indexes = []\n",
    "    for i in range(int(max_features/2)):\n",
    "        chosen_indexes.append(word_dict[negative_inclined_list[i]])\n",
    "    for i in range(int(max_features/2)):\n",
    "        chosen_indexes.append(word_dict[positive_inclined_list[i]])\n",
    "    return chosen_indexes"
   ]
  },
  {
   "cell_type": "code",
   "execution_count": 15,
   "metadata": {},
   "outputs": [
    {
     "name": "stdout",
     "output_type": "stream",
     "text": [
      "Number of words picked: 300\n"
     ]
    }
   ],
   "source": [
    "accounted_word_indexes = choose_word_index()\n",
    "nof_features = len(accounted_word_indexes)\n",
    "print(\"Number of words picked: \" + str(nof_features))"
   ]
  },
  {
   "cell_type": "markdown",
   "metadata": {},
   "source": [
    "### 2. Splitting original sets to train/validation/test sets:\n",
    "Original test set will be kept the way it is. Only original training set is split into train/validation sets"
   ]
  },
  {
   "cell_type": "code",
   "execution_count": 16,
   "metadata": {},
   "outputs": [
    {
     "name": "stdout",
     "output_type": "stream",
     "text": [
      "Training set size : 25000\n",
      "Testing set shape : 25000\n",
      "\n",
      "\n",
      "New training set size  : 20000\n",
      "New validation set size: 5000\n",
      "New testing set size   : 25000\n"
     ]
    }
   ],
   "source": [
    "initial_train_len = x_train.shape[0]\n",
    "print(\"Training set size : \" + str(initial_train_len))\n",
    "\n",
    "initial_test_len = x_test.shape[0]\n",
    "print(\"Testing set shape : \" + str(initial_test_len) + '\\n')\n",
    "\n",
    "# Split original data sets to train/validation/test sets:\n",
    "validation_len = 5000\n",
    "\n",
    "train_set      = (x_train[0 : initial_train_len - validation_len], y_train[0 : initial_train_len - validation_len])\n",
    "new_train_len  = len(train_set[0])\n",
    "print(\"\\nNew training set size  :\", new_train_len)\n",
    "\n",
    "validation_set = (x_train[initial_train_len - validation_len : ],  y_train[initial_train_len - validation_len : ])\n",
    "new_validation_len = len(validation_set[0])\n",
    "print(\"New validation set size:\", new_validation_len)\n",
    "\n",
    "test_set       = (x_test, y_test)\n",
    "new_test_len = len(test_set[0])\n",
    "print(\"New testing set size   :\", new_test_len)"
   ]
  },
  {
   "cell_type": "markdown",
   "metadata": {},
   "source": [
    "### 3. Recostructing input data:\n",
    "Turning original input data of shape (nof_examples, *undefined*) to (nof_features, nof_examples) "
   ]
  },
  {
   "cell_type": "code",
   "execution_count": 17,
   "metadata": {},
   "outputs": [],
   "source": [
    "def construct_input(initial_input):\n",
    "    new_input = []\n",
    "    for word_index in accounted_word_indexes:\n",
    "        if word_index in initial_input:\n",
    "            new_input.append(1)\n",
    "        else:\n",
    "            new_input.append(0)\n",
    "    return new_input"
   ]
  },
  {
   "cell_type": "code",
   "execution_count": 18,
   "metadata": {},
   "outputs": [],
   "source": [
    "# Initialize new train/validation/test sets\n",
    "new_x_train      = np.zeros((new_train_len,      nof_features))\n",
    "new_y_train      = np.zeros((new_train_len,      1))\n",
    "\n",
    "new_x_validation = np.zeros((new_validation_len, nof_features))\n",
    "new_y_validation = np.zeros((new_validation_len, 1))\n",
    "\n",
    "new_x_test       = np.zeros((new_test_len,       nof_features))\n",
    "new_y_test       = np.zeros((new_test_len,       1))\n",
    "\n",
    "# Reconstruct the train/validation/test sets to the aforementioned format:\n",
    "\n",
    "# TRAINING SET:\n",
    "for example_index in range(new_train_len):\n",
    "    new_x_train[example_index]      = construct_input(train_set[0][example_index])\n",
    "    new_y_train[example_index]      =                 train_set[1][example_index]\n",
    "\n",
    "# VALIDATION SET\n",
    "for example_index in range(new_validation_len):\n",
    "    new_x_validation[example_index] = construct_input(validation_set[0][example_index])\n",
    "    new_y_validation[example_index] =                 validation_set[1][example_index]\n",
    "\n",
    "# TEST SET\n",
    "for example_index in range(new_test_len):\n",
    "    new_x_test[example_index]       = construct_input(test_set[0][example_index])\n",
    "    new_y_test[example_index]       =                 test_set[1][example_index]\n",
    "    \n",
    "# Transposing the sets for simpler usage later on\n",
    "new_x_train      = new_x_train.T\n",
    "new_y_train      = new_y_train.T\n",
    "\n",
    "new_x_validation = new_x_validation.T\n",
    "new_y_validation = new_y_validation.T\n",
    "\n",
    "new_x_test       = new_x_test.T\n",
    "new_y_test       = new_y_test.T"
   ]
  },
  {
   "cell_type": "markdown",
   "metadata": {},
   "source": [
    "# V. Machine Learning Models\n",
    "3 different neural network models will be trained on training set and validated on validation set to decide which model will be used to test with the test set. The models are:\n",
    "- Neural network with 0 hidden layer, without regularization\n",
    "- Neural network with 2 hidden layer, without regularization\n",
    "- Neural network with 3 hidden layer, without regularization"
   ]
  },
  {
   "cell_type": "markdown",
   "metadata": {},
   "source": [
    "### 1. Model One: \n",
    "Neural network with 0 hidden layer, without regularization\n",
    " - Final layer will have Sigmoid activation"
   ]
  },
  {
   "cell_type": "code",
   "execution_count": 19,
   "metadata": {},
   "outputs": [],
   "source": [
    "# Initialize parameters for model One:\n",
    "def initialize_params_m1():\n",
    "    # Weights and Biases:\n",
    "    W1 = tf.get_variable('W1_m1', [1 ,nof_features], initializer = tf.random_normal_initializer(mean=0.0, stddev=0.05, seed=20))\n",
    "    b1 = tf.get_variable('b1_m1', [1,1], initializer = tf.zeros_initializer())\n",
    "    parameters = {'W1': W1, 'b1': b1}\n",
    "    return parameters"
   ]
  },
  {
   "cell_type": "code",
   "execution_count": 20,
   "metadata": {},
   "outputs": [],
   "source": [
    "# Forward propagation for model One:\n",
    "def forward_m1(X, parameters):\n",
    "    # Extract parameters\n",
    "    W1 = parameters['W1']\n",
    "    b1 = parameters['b1']\n",
    "    \n",
    "    # Forward propagation\n",
    "    Z1 = tf.add(tf.matmul(W1, X), b1)\n",
    "    A1 = tf.sigmoid(Z1)\n",
    "    return A1"
   ]
  },
  {
   "cell_type": "markdown",
   "metadata": {},
   "source": [
    "### 2. Model Two: \n",
    "Neural network with 2 hidden layers, without regularization\n",
    " - Hidden layer 1 has (nof_features/3*2) units (Leaky ReLu activation)\n",
    " - Hidden layer 2 has (nof_features/3*1) units (Leaky ReLu activation)\n",
    " - Final layer will have Sigmoid activation"
   ]
  },
  {
   "cell_type": "code",
   "execution_count": 51,
   "metadata": {},
   "outputs": [],
   "source": [
    "# Initialize parameters for model Two:\n",
    "def initialize_params_m2():\n",
    "    hl1_units = int(nof_features/3*2)\n",
    "    hl2_units = int(nof_features/3*1)\n",
    "    # Weights and Biases:\n",
    "    W1 = tf.get_variable('W1_m2', [hl1_units, nof_features], initializer = tf.random_normal_initializer(mean=0.0, stddev=0.05, seed=20))\n",
    "    b1 = tf.get_variable('b1_m2', [hl1_units, 1], initializer = tf.zeros_initializer())\n",
    "    \n",
    "    W2 = tf.get_variable('W2_m2', [hl2_units, hl1_units], initializer = tf.random_normal_initializer(mean=0.0, stddev=0.05, seed=30))\n",
    "    b2 = tf.get_variable('b2_m2', [hl2_units, 1], initializer = tf.zeros_initializer())\n",
    "    \n",
    "    W3 = tf.get_variable('W3_m2', [1, hl2_units], initializer = tf.random_normal_initializer(mean=0.0, stddev=0.05, seed=40))\n",
    "    b3 = tf.get_variable('b3_m2', [1, 1], initializer = tf.zeros_initializer())\n",
    "    parameters = {'W1': W1, 'b1': b1, 'W2': W2, 'b2': b2, 'W3': W3, 'b3': b3}\n",
    "    return parameters"
   ]
  },
  {
   "cell_type": "code",
   "execution_count": 52,
   "metadata": {},
   "outputs": [],
   "source": [
    "# Forward propagation for model Two:\n",
    "def forward_m2(X, parameters):\n",
    "    # Extract parameters\n",
    "    W1 = parameters['W1']\n",
    "    b1 = parameters['b1']\n",
    "    W2 = parameters['W2']\n",
    "    b2 = parameters['b2']\n",
    "    W3 = parameters['W3']\n",
    "    b3 = parameters['b3']\n",
    "    \n",
    "    # Forward propagation\n",
    "    Z1 = tf.add(tf.matmul(W1, X), b1)\n",
    "    A1 = tf.nn.leaky_relu(Z1)\n",
    "    \n",
    "    Z2 = tf.add(tf.matmul(W2, A1), b2)\n",
    "    A2 = tf.nn.leaky_relu(Z2)\n",
    "    \n",
    "    Z3 = tf.add(tf.matmul(W3, A2), b3)\n",
    "    A3 = tf.sigmoid(Z3)\n",
    "    \n",
    "    return A3"
   ]
  },
  {
   "cell_type": "markdown",
   "metadata": {},
   "source": [
    "### 3. Model Three:\n",
    "Neural network with 2 hidden layer, with regularization\n",
    "- Hidden layer 1 has (nof_features/3*2) units (Leaky ReLu activation)\n",
    "- Hidden layer 2 has (nof_features/3*1) units (Leaky ReLu activation)\n",
    "- Hidden layer 3 has (nof_features/5) units (Leaky ReLu activation)\n",
    "- Final layer will have Sigmoid activation"
   ]
  },
  {
   "cell_type": "code",
   "execution_count": 23,
   "metadata": {},
   "outputs": [],
   "source": [
    "# Initialize parameters for model Three:\n",
    "def initialize_params_m3():\n",
    "    hl1_units = int(nof_features/3*2)\n",
    "    hl2_units = int(nof_features/3*1)\n",
    "    hl3_units = int(nof_features/5)\n",
    "    # Weights and Biases:\n",
    "    W1 = tf.get_variable('W1_m3', [hl1_units, nof_features], initializer = tf.random_normal_initializer(mean=0.0, stddev=0.05, seed=20))\n",
    "    b1 = tf.get_variable('b1_m3', [hl1_units, 1], initializer = tf.zeros_initializer())\n",
    "    \n",
    "    W2 = tf.get_variable('W2_m3', [hl2_units, hl1_units], initializer = tf.random_normal_initializer(mean=0.0, stddev=0.05, seed=30))\n",
    "    b2 = tf.get_variable('b2_m3', [hl2_units, 1], initializer = tf.zeros_initializer())\n",
    "    \n",
    "    W3 = tf.get_variable('W3_m3', [hl3_units, hl2_units], initializer = tf.random_normal_initializer(mean=0.0, stddev=0.05, seed=40))\n",
    "    b3 = tf.get_variable('b3_m3', [hl3_units, 1], initializer = tf.zeros_initializer())\n",
    "    \n",
    "    W4 = tf.get_variable('W4_m3', [1, hl3_units], initializer = tf.random_normal_initializer(mean=0.0, stddev=0.05, seed=50))\n",
    "    b4 = tf.get_variable('b4_m3', [1, 1], initializer = tf.zeros_initializer())\n",
    "    parameters = {'W1': W1, 'b1': b1, 'W2': W2, 'b2': b2, 'W3': W3, 'b3': b3, 'W4': W4, 'b4': b4}\n",
    "    return parameters"
   ]
  },
  {
   "cell_type": "code",
   "execution_count": 24,
   "metadata": {},
   "outputs": [],
   "source": [
    "# Forward propagation for model Three:\n",
    "def forward_m3(X, parameters):\n",
    "    # Extract parameters\n",
    "    W1 = parameters['W1']\n",
    "    b1 = parameters['b1']\n",
    "    W2 = parameters['W2']\n",
    "    b2 = parameters['b2']\n",
    "    W3 = parameters['W3']\n",
    "    b3 = parameters['b3']\n",
    "    W4 = parameters['W4']\n",
    "    b4 = parameters['b4']\n",
    "    \n",
    "    # Forward propagation\n",
    "    Z1 = tf.add(tf.matmul(W1, X), b1)\n",
    "    A1 = tf.nn.leaky_relu(Z1)\n",
    "    \n",
    "    Z2 = tf.add(tf.matmul(W2, A1), b2)\n",
    "    A2 = tf.nn.leaky_relu(Z2)\n",
    "    \n",
    "    Z3 = tf.add(tf.matmul(W3, A2), b3)\n",
    "    A3 = tf.nn.leaky_relu(Z3)\n",
    "    \n",
    "    Z4 = tf.add(tf.matmul(W4, A3), b4)\n",
    "    A4 = tf.sigmoid(Z4)\n",
    "    \n",
    "    return A4"
   ]
  },
  {
   "cell_type": "markdown",
   "metadata": {},
   "source": [
    "### Modeling and Training"
   ]
  },
  {
   "cell_type": "code",
   "execution_count": 53,
   "metadata": {},
   "outputs": [],
   "source": [
    "# Make prediction based on final activation units for model One:\n",
    "def predict(A):\n",
    "    prediction = tf.cast(tf.greater_equal(A, 0.5), 'float') # Choose threshold at 0.5\n",
    "    return prediction"
   ]
  },
  {
   "cell_type": "code",
   "execution_count": 54,
   "metadata": {},
   "outputs": [],
   "source": [
    "def model_nn(X_train_input, Y_train_input, model_name='m1', learning_rate=0.05, epochs=2000, print_loss_interval=10):\n",
    "    \n",
    "    tf.reset_default_graph()\n",
    "    \n",
    "    # Creating neural network model input:\n",
    "    X = tf.placeholder(tf.float32, [nof_features, None], name='X') # The inputs\n",
    "    Y = tf.placeholder(tf.float32, [1, None], name='Y')            # The labels\n",
    "    \n",
    "    # Initializing parameters of the neural network and output final activation units\n",
    "    parameters = {}\n",
    "    if model_name == 'm1':\n",
    "        parameters = initialize_params_m1()\n",
    "        A = forward_m1(X, parameters)\n",
    "    elif model_name == 'm2':\n",
    "        parameters = initialize_params_m2()\n",
    "        A = forward_m2(X, parameters)\n",
    "    elif model_name == 'm3':\n",
    "        parameters = initialize_params_m3()\n",
    "        A = forward_m3(X, parameters)\n",
    "    \n",
    "    # Predict sentimental classification unit based on 'A'\n",
    "    prediction = predict(A)\n",
    "    \n",
    "    # Loss function and optimizing method\n",
    "    Loss = tf.reduce_mean(tf.square(tf.subtract(A, Y)))\n",
    "    optimizer = tf.train.GradientDescentOptimizer(learning_rate=learning_rate).minimize(Loss)\n",
    "\n",
    "    # List to store the lost values after some interations for later visualization\n",
    "    loss_values = [] \n",
    "    iterations  = range(1, epochs+1)\n",
    "\n",
    "    # Start training\n",
    "    init = tf.global_variables_initializer()\n",
    "    start_time = time.time()\n",
    "    \n",
    "    with tf.Session() as sess:\n",
    "        sess.run(init)\n",
    "        \n",
    "        # Run gradient descent for 'epochs' times\n",
    "        for epoch in range(1, epochs+1):    \n",
    "            _, loss = sess.run(fetches=[optimizer, Loss], feed_dict={X:X_train_input, Y:Y_train_input})\n",
    "            loss_values.append(loss)\n",
    "            \n",
    "            # Print this as a reference\n",
    "            if epoch == 1 or epoch % (epochs/print_loss_interval) == 0:\n",
    "                print(\"Training loss after\", epoch, \"iterations:\", loss)\n",
    "              \n",
    "        # Plot learning curve\n",
    "        fig, ax = plt.subplots(figsize=(8, 8))\n",
    "        ax.plot(iterations, loss_values)\n",
    "        plt.title(\"Learning curve\")\n",
    "        plt.xlabel(\"Iterations\")\n",
    "        plt.ylabel(\"Loss\")\n",
    "        plt.show()\n",
    "\n",
    "        # Save parameters for accuracy test on training and validation sets\n",
    "        parameters = sess.run(parameters)\n",
    "        \n",
    "        # Training time\n",
    "        print(\"The model took approximately\", round((time.time() - start_time)/60), \"minutes to train\\n\")\n",
    "        \n",
    "        # Accuracy:\n",
    "        correct_prediction = tf.equal(prediction, Y)\n",
    "        accuracy = tf.reduce_mean(tf.cast(correct_prediction, \"float\"))\n",
    "\n",
    "        print(\"Train Accuracy     :\", accuracy.eval({X: X_train_input,    Y: Y_train_input}))\n",
    "        print(\"Validation Accuracy:\", accuracy.eval({X: new_x_validation, Y: new_y_validation}))\n",
    "        print(\"Validation Loss    :\", Loss.eval({X: new_x_validation, Y: new_y_validation}))\n",
    "        \n",
    "        return parameters"
   ]
  },
  {
   "cell_type": "markdown",
   "metadata": {},
   "source": [
    "# VI. Training and Validating ML Models "
   ]
  },
  {
   "cell_type": "markdown",
   "metadata": {},
   "source": [
    "### 1. Model One: "
   ]
  },
  {
   "cell_type": "markdown",
   "metadata": {},
   "source": [
    "Read saved parameters out of csv files so the model does not have to be retrained everytime."
   ]
  },
  {
   "cell_type": "code",
   "execution_count": 43,
   "metadata": {},
   "outputs": [],
   "source": [
    "params_m1 = {}\n",
    "# Read values if this is NOT the first time the machine is run\n",
    "params_m1['W1'] = np.loadtxt(open('m1/l1/m1_w1.csv', 'r'), delimiter=',').astype(np.float32).reshape(1, nof_features)\n",
    "params_m1['b1'] = np.loadtxt(open('m1/l1/m1_b1.csv', 'r'), delimiter=',').astype(np.float32).reshape(1, 1)"
   ]
  },
  {
   "cell_type": "code",
   "execution_count": 28,
   "metadata": {},
   "outputs": [
    {
     "name": "stdout",
     "output_type": "stream",
     "text": [
      "Training loss after 1 iterations: 0.26152626\n",
      "Training loss after 200 iterations: 0.19716802\n",
      "Training loss after 400 iterations: 0.17217407\n",
      "Training loss after 600 iterations: 0.15885018\n",
      "Training loss after 800 iterations: 0.150379\n",
      "Training loss after 1000 iterations: 0.14440997\n",
      "Training loss after 1200 iterations: 0.13991752\n",
      "Training loss after 1400 iterations: 0.1363788\n",
      "Training loss after 1600 iterations: 0.13349731\n",
      "Training loss after 1800 iterations: 0.13109137\n",
      "Training loss after 2000 iterations: 0.12904282\n"
     ]
    },
    {
     "data": {
      "image/png": "[encoded data removed]",
      "text/plain": [
       "<Figure size 576x576 with 1 Axes>"
      ]
     },
     "metadata": {
      "needs_background": "light"
     },
     "output_type": "display_data"
    },
    {
     "name": "stdout",
     "output_type": "stream",
     "text": [
      "The model took approximately 2 minutes to train\n",
      "\n",
      "Train Accuracy     : 0.83675\n",
      "Validation Accuracy: 0.84\n",
      "Validation Loss    : 0.13038604\n"
     ]
    }
   ],
   "source": [
    "params_m1 = model_nn(new_x_train, new_y_train, model_name='m1', learning_rate=0.05, epochs=2000, print_loss_interval=10)"
   ]
  },
  {
   "cell_type": "code",
   "execution_count": 29,
   "metadata": {},
   "outputs": [],
   "source": [
    "# Store parameters in csv files for later use:\n",
    "np.savetxt('m1/l1/m1_w1.csv', params_m1['W1'], delimiter=',')\n",
    "np.savetxt('m1/l1/m1_b1.csv', params_m1['b1'], delimiter=',')"
   ]
  },
  {
   "cell_type": "markdown",
   "metadata": {},
   "source": [
    "### 2. Model Two:"
   ]
  },
  {
   "cell_type": "markdown",
   "metadata": {},
   "source": [
    "Read saved parameters out of csv files so the model does not have to be retrained everytime."
   ]
  },
  {
   "cell_type": "code",
   "execution_count": 57,
   "metadata": {},
   "outputs": [],
   "source": [
    "params_m2 = {}\n",
    "m2_hl1_units = int(nof_features/3*2)\n",
    "m2_hl2_units = int(nof_features/3*1)\n",
    "# Read values if this is NOT the first time the machine is run\n",
    "params_m2['W1'] = np.loadtxt(open('m2/l1/m2_w1.csv', 'r'), delimiter=',').astype(np.float32).reshape(m2_hl1_units, nof_features)\n",
    "params_m2['b1'] = np.loadtxt(open('m2/l1/m2_b1.csv', 'r'), delimiter=',').astype(np.float32).reshape(m2_hl1_units, 1)\n",
    "\n",
    "params_m2['W2'] = np.loadtxt(open('m2/l2/m2_w2.csv', 'r'), delimiter=',').astype(np.float32).reshape(m2_hl2_units, m2_hl1_units)\n",
    "params_m2['b2'] = np.loadtxt(open('m2/l2/m2_b2.csv', 'r'), delimiter=',').astype(np.float32).reshape(m2_hl2_units, 1)\n",
    "\n",
    "params_m2['W3'] = np.loadtxt(open('m2/l3/m2_w3.csv', 'r'), delimiter=',').astype(np.float32).reshape(1, m2_hl2_units)\n",
    "params_m2['b3'] = np.loadtxt(open('m2/l3/m2_b3.csv', 'r'), delimiter=',').astype(np.float32).reshape(1, 1)"
   ]
  },
  {
   "cell_type": "code",
   "execution_count": 55,
   "metadata": {},
   "outputs": [
    {
     "name": "stdout",
     "output_type": "stream",
     "text": [
      "Training loss after 1 iterations: 0.24979624\n",
      "Training loss after 200 iterations: 0.2408395\n",
      "Training loss after 400 iterations: 0.2134975\n",
      "Training loss after 600 iterations: 0.16494094\n",
      "Training loss after 800 iterations: 0.13690884\n",
      "Training loss after 1000 iterations: 0.12316782\n",
      "Training loss after 1200 iterations: 0.115409106\n",
      "Training loss after 1400 iterations: 0.11055549\n",
      "Training loss after 1600 iterations: 0.10734817\n",
      "Training loss after 1800 iterations: 0.10514202\n",
      "Training loss after 2000 iterations: 0.103550345\n"
     ]
    },
    {
     "data": {
      "image/png": "[encoded data removed]",
      "text/plain": [
       "<Figure size 576x576 with 1 Axes>"
      ]
     },
     "metadata": {
      "needs_background": "light"
     },
     "output_type": "display_data"
    },
    {
     "name": "stdout",
     "output_type": "stream",
     "text": [
      "The model took approximately 9 minutes to train\n",
      "\n",
      "Train Accuracy     : 0.85865\n",
      "Validation Accuracy: 0.8514\n",
      "Validation Loss    : 0.10828789\n"
     ]
    }
   ],
   "source": [
    "params_m2 = model_nn(new_x_train, new_y_train, model_name='m2', learning_rate=0.05, epochs=2000, print_loss_interval=10)"
   ]
  },
  {
   "cell_type": "code",
   "execution_count": 56,
   "metadata": {},
   "outputs": [],
   "source": [
    "# Store parameters in csv files for later use:\n",
    "np.savetxt('m2/l1/m2_w1.csv', params_m2['W1'], delimiter=',')\n",
    "np.savetxt('m2/l1/m2_b1.csv', params_m2['b1'], delimiter=',')\n",
    "\n",
    "np.savetxt('m2/l2/m2_w2.csv', params_m2['W2'], delimiter=',')\n",
    "np.savetxt('m2/l2/m2_b2.csv', params_m2['b2'], delimiter=',')\n",
    "\n",
    "np.savetxt('m2/l3/m2_w3.csv', params_m2['W3'], delimiter=',')\n",
    "np.savetxt('m2/l3/m2_b3.csv', params_m2['b3'], delimiter=',')"
   ]
  },
  {
   "cell_type": "markdown",
   "metadata": {},
   "source": [
    "### 3. Model Three:"
   ]
  },
  {
   "cell_type": "markdown",
   "metadata": {},
   "source": [
    "Read saved parameters out of csv files so the model does not have to be retrained everytime."
   ]
  },
  {
   "cell_type": "code",
   "execution_count": 47,
   "metadata": {},
   "outputs": [],
   "source": [
    "params_m3 = {}\n",
    "m3_hl1_units = int(nof_features/3*2)\n",
    "m3_hl2_units = int(nof_features/3*1)\n",
    "m3_hl3_units = int(nof_features/5)\n",
    "# Read values if this is NOT the first time the machine is run\n",
    "params_m3['W1'] = np.loadtxt(open('m3/l1/m3_w1.csv', 'r'), delimiter=',').astype(np.float32).reshape(m3_hl1_units, nof_features)\n",
    "params_m3['b1'] = np.loadtxt(open('m3/l1/m3_b1.csv', 'r'), delimiter=',').astype(np.float32).reshape(m3_hl1_units, 1)\n",
    "\n",
    "params_m3['W2'] = np.loadtxt(open('m3/l2/m3_w2.csv', 'r'), delimiter=',').astype(np.float32).reshape(m3_hl2_units, m3_hl1_units)\n",
    "params_m3['b2'] = np.loadtxt(open('m3/l2/m3_b2.csv', 'r'), delimiter=',').astype(np.float32).reshape(m3_hl2_units, 1)\n",
    "\n",
    "params_m3['W3'] = np.loadtxt(open('m3/l3/m3_w3.csv', 'r'), delimiter=',').astype(np.float32).reshape(m3_hl3_units, m3_hl2_units)\n",
    "params_m3['b3'] = np.loadtxt(open('m3/l3/m3_b3.csv', 'r'), delimiter=',').astype(np.float32).reshape(m3_hl3_units, 1)\n",
    "\n",
    "params_m3['W4'] = np.loadtxt(open('m3/l4/m3_w4.csv', 'r'), delimiter=',').astype(np.float32).reshape(1, m3_hl3_units)\n",
    "params_m3['b4'] = np.loadtxt(open('m3/l4/m3_b4.csv', 'r'), delimiter=',').astype(np.float32).reshape(1, 1)"
   ]
  },
  {
   "cell_type": "code",
   "execution_count": 31,
   "metadata": {},
   "outputs": [
    {
     "name": "stdout",
     "output_type": "stream",
     "text": [
      "Training loss after 1 iterations: 0.25006554\n",
      "Training loss after 200 iterations: 0.24956381\n",
      "Training loss after 400 iterations: 0.24886286\n",
      "Training loss after 600 iterations: 0.24738106\n",
      "Training loss after 800 iterations: 0.2431503\n",
      "Training loss after 1000 iterations: 0.22636294\n",
      "Training loss after 1200 iterations: 0.17028254\n",
      "Training loss after 1400 iterations: 0.13226025\n",
      "Training loss after 1600 iterations: 0.11753076\n",
      "Training loss after 1800 iterations: 0.110215575\n",
      "Training loss after 2000 iterations: 0.10604973\n"
     ]
    },
    {
     "data": {
      "image/png": "[encoded data removed]",
      "text/plain": [
       "<Figure size 576x576 with 1 Axes>"
      ]
     },
     "metadata": {
      "needs_background": "light"
     },
     "output_type": "display_data"
    },
    {
     "name": "stdout",
     "output_type": "stream",
     "text": [
      "The model took approximately 10 minutes to train\n",
      "\n",
      "Train Accuracy     : 0.8557\n",
      "Validation Accuracy: 0.85\n",
      "Validation Loss    : 0.110275686\n"
     ]
    }
   ],
   "source": [
    "params_m3 = model_nn(new_x_train, new_y_train, model_name='m3', learning_rate=0.05, epochs=2000, print_loss_interval=10)"
   ]
  },
  {
   "cell_type": "code",
   "execution_count": 46,
   "metadata": {},
   "outputs": [],
   "source": [
    "# Store parameters in csv files for later use:\n",
    "np.savetxt('m3/l1/m3_w1.csv', params_m3['W1'], delimiter=',')\n",
    "np.savetxt('m3/l1/m3_b1.csv', params_m3['b1'], delimiter=',')\n",
    "\n",
    "np.savetxt('m3/l2/m3_w2.csv', params_m3['W2'], delimiter=',')\n",
    "np.savetxt('m3/l2/m3_b2.csv', params_m3['b2'], delimiter=',')\n",
    "\n",
    "np.savetxt('m3/l3/m3_w3.csv', params_m3['W3'], delimiter=',')\n",
    "np.savetxt('m3/l3/m3_b3.csv', params_m3['b3'], delimiter=',')\n",
    "\n",
    "np.savetxt('m3/l4/m3_w4.csv', params_m3['W4'], delimiter=',')\n",
    "np.savetxt('m3/l4/m3_b4.csv', params_m3['b4'], delimiter=',')"
   ]
  },
  {
   "cell_type": "markdown",
   "metadata": {},
   "source": [
    "### Conclusion:\n",
    "\n",
    "Compare result in table:\n",
    "\n",
    "| |Model One (eps.1)|Model Two (eps.1)|Model Three (eps.1)|\n",
    "|-|-|-|-|\n",
    "|# Hidden layers    |0      |2      |3      |\n",
    "|Training accuracy  |79.255%|80.890%|79.920%|\n",
    "|Validation accuracy|79.200%|79.740%|79.140%|\n",
    "|Training loss      |0.15271|0.13650|0.14144|\n",
    "|Validation loss    |0.15459|0.14307|0.14586|\n",
    "\n",
    "||Model One (eps.2)|Model Two (eps.2)|Model Three (eps.2)|\n",
    "|-|-|-|-|\n",
    "|# Hidden layers|0|2|3|\n",
    "|Training accuracy|83.675%|85.865%|85.570%|\n",
    "|Validation accuracy|84.000%|85.140%|85.000%|\n",
    "|Training loss|0.12904|0.10355|0.10605|\n",
    "|Validation loss|0.13039|0.10829|0.11028|\n",
    "\n",
    "The new features encoding technique indeed improves the models' performances, though not significantly but also not ignorably (increases accuracies by approximately 5% each). Model Two still performs the best in both episodes and there is no sign of overfitting training set. "
   ]
  },
  {
   "cell_type": "markdown",
   "metadata": {},
   "source": [
    "# VII. Evaluation on testing set"
   ]
  },
  {
   "cell_type": "code",
   "execution_count": 33,
   "metadata": {},
   "outputs": [],
   "source": [
    "def evaluate(X_test, Y_test, model_name='m1', print_values=True):\n",
    "    \n",
    "    tf.reset_default_graph()\n",
    "    \n",
    "    # Creating neural network model input:\n",
    "    X = tf.placeholder(tf.float32, [nof_features, None], name='X') # The inputs\n",
    "    Y = tf.placeholder(tf.float32, [1, None], name='Y')            # The labels\n",
    "    \n",
    "    # Initializing parameters of the neural network and output final activation units\n",
    "    if model_name == 'm1':\n",
    "        A = forward_m1(X, params_m1)\n",
    "    elif model_name == 'm2':\n",
    "        A = forward_m2(X, params_m2)\n",
    "    elif model_name == 'm3':\n",
    "        A = forward_m3(X, params_m3)\n",
    "        \n",
    "    # Loss function\n",
    "    Loss = tf.reduce_mean(tf.square(tf.subtract(A, Y)))\n",
    "    \n",
    "    # Predict sentimental classification unit based on 'A'\n",
    "    prediction = predict(A)\n",
    "    \n",
    "    # Accuracy\n",
    "    correct_prediction = tf.equal(prediction, Y)\n",
    "    accuracy = tf.reduce_mean(tf.cast(correct_prediction, 'float'))\n",
    "        \n",
    "    # Start evaluating\n",
    "    loss_value, test_accuracy = None, None\n",
    "    init = tf.global_variables_initializer()\n",
    "    \n",
    "    with tf.Session() as sess:\n",
    "        sess.run(init)\n",
    "        loss_value, test_accuracy = sess.run(fetches=[Loss, accuracy], feed_dict={X:X_test, Y:Y_test})\n",
    "        if print_values:\n",
    "            print(\"Loss value:\", loss_value)\n",
    "            print(\"Testing accuracy:\", test_accuracy)\n",
    "        \n",
    "    return loss_value, test_accuracy"
   ]
  },
  {
   "cell_type": "code",
   "execution_count": 34,
   "metadata": {},
   "outputs": [
    {
     "name": "stdout",
     "output_type": "stream",
     "text": [
      "Loss value: 0.13249828\n",
      "Testing accuracy: 0.8266\n"
     ]
    },
    {
     "data": {
      "text/plain": [
       "(0.13249828, 0.8266)"
      ]
     },
     "execution_count": 34,
     "metadata": {},
     "output_type": "execute_result"
    }
   ],
   "source": [
    "evaluate(new_x_test, new_y_test, model_name='m1')"
   ]
  },
  {
   "cell_type": "code",
   "execution_count": 35,
   "metadata": {},
   "outputs": [
    {
     "name": "stdout",
     "output_type": "stream",
     "text": [
      "Loss value: 0.111206524\n",
      "Testing accuracy: 0.8466\n"
     ]
    },
    {
     "data": {
      "text/plain": [
       "(0.111206524, 0.8466)"
      ]
     },
     "execution_count": 35,
     "metadata": {},
     "output_type": "execute_result"
    }
   ],
   "source": [
    "evaluate(new_x_test, new_y_test, model_name='m2')"
   ]
  },
  {
   "cell_type": "code",
   "execution_count": 36,
   "metadata": {},
   "outputs": [
    {
     "name": "stdout",
     "output_type": "stream",
     "text": [
      "Loss value: 0.11372575\n",
      "Testing accuracy: 0.84252\n"
     ]
    },
    {
     "data": {
      "text/plain": [
       "(0.11372575, 0.84252)"
      ]
     },
     "execution_count": 36,
     "metadata": {},
     "output_type": "execute_result"
    }
   ],
   "source": [
    "evaluate(new_x_test, new_y_test, model_name='m3')"
   ]
  },
  {
   "cell_type": "markdown",
   "metadata": {},
   "source": [
    "### Conclusion\n",
    "\n",
    "||Model One (eps.1)|Model Two (eps.1)|Model Three (eps.1)|\n",
    "|-|-|-|-|\n",
    "|Testing accuracy|78.260%|79.248%|78.672%|\n",
    "|Testing loss    |0.15668|0.14500|0.14863|\n",
    "\n",
    "||Model One (eps.2)|Model Two (eps.2)|Model Three (eps.2)|\n",
    "|-|-|-|-|\n",
    "|Testing accuracy|82.660%|84.660%|84.252%|\n",
    "|Testing loss|0.13250|0.11121|0.11373|\n",
    "\n",
    "As above, new features encoding technique also improves models' performances on test set by approximate amounts as in train and validation sets. As a side note, Model Three always took longest to train but it performances never exceeded those of Model Two, hence, from the next episode on, Model Three will be excluded to save time and space."
   ]
  },
  {
   "cell_type": "markdown",
   "metadata": {},
   "source": [
    "# VIII. Problems Analysis"
   ]
  },
  {
   "cell_type": "markdown",
   "metadata": {},
   "source": [
    "### 1. Test set analysis"
   ]
  },
  {
   "cell_type": "code",
   "execution_count": 37,
   "metadata": {},
   "outputs": [
    {
     "name": "stdout",
     "output_type": "stream",
     "text": [
      "Maximum number of of chosen words detected in a comment: 137\n"
     ]
    }
   ],
   "source": [
    "# The maximum number of chosen words detected in a comment\n",
    "max_comment_len = int(np.max(np.sum(new_x_test, axis=0))) \n",
    "print(\"Maximum number of of chosen words detected in a comment:\", max_comment_len)\n",
    "\n",
    "# Number of words range in each dataset\n",
    "words_range = 10\n",
    "\n",
    "# Set of new smaller datasets\n",
    "divided_test_sets = []\n",
    "\n",
    "# Loop through all intervals\n",
    "for interval in range(int(max_comment_len/words_range)):\n",
    "    input_set = []\n",
    "    output_set = []\n",
    "    \n",
    "    # Loop through all test datapoints to pick the ones satisfy the range\n",
    "    for test_index in range(new_test_len):\n",
    "        if np.sum(new_x_test.T[test_index]) in range(interval * words_range, (interval+1) * words_range):\n",
    "            input_set .append(new_x_test.T[test_index])\n",
    "            output_set.append(new_y_test.T[test_index])\n",
    "    \n",
    "    divided_test_sets.append((np.array(input_set).T, np.array(output_set).T))\n",
    "    \n",
    "# Loop though all other comments not inside intervals\n",
    "inputs = []\n",
    "outputs = []\n",
    "for test_index in range(new_test_len):\n",
    "    if np.sum(new_x_test.T[test_index]) in range(int(max_comment_len/words_range) * words_range, max_comment_len+1):\n",
    "        inputs .append(new_x_test.T[test_index])\n",
    "        outputs.append(new_y_test.T[test_index])\n",
    "        \n",
    "divided_test_sets.append((np.array(inputs).T, np.array(outputs).T))"
   ]
  },
  {
   "cell_type": "code",
   "execution_count": 38,
   "metadata": {},
   "outputs": [
    {
     "name": "stdout",
     "output_type": "stream",
     "text": [
      "List of min words in each dataset: [  0  10  20  30  40  50  60  70  80  90 100 110 120 130]\n"
     ]
    }
   ],
   "source": [
    "# Construct x_labels values for the plots (list of min words in each dataset)\n",
    "max_words_list = np.array(range(0, max_comment_len, words_range))\n",
    "print(\"List of min words in each dataset:\", max_words_list)"
   ]
  },
  {
   "cell_type": "code",
   "execution_count": 39,
   "metadata": {},
   "outputs": [
    {
     "name": "stdout",
     "output_type": "stream",
     "text": [
      "Total number of new sets: 14\n",
      "10th input  dataset has the shape of: (300, 129)\n",
      "10th output dataset has the shape of: (1, 129)\n"
     ]
    }
   ],
   "source": [
    "print(\"Total number of new sets:\", len(divided_test_sets))\n",
    "\n",
    "dataset_index = 10 # Any number between 0 to len(divided_test_sets)\n",
    "print(str(dataset_index) + \"th input  dataset has the shape of:\", np.array(divided_test_sets[dataset_index][0]).shape)\n",
    "print(str(dataset_index) + \"th output dataset has the shape of:\", np.array(divided_test_sets[dataset_index][1]).shape)"
   ]
  },
  {
   "cell_type": "code",
   "execution_count": 40,
   "metadata": {},
   "outputs": [],
   "source": [
    "test_losses     = []\n",
    "test_accuracies = []\n",
    "\n",
    "for divided_set in divided_test_sets:\n",
    "    l, a = evaluate(divided_set[0], divided_set[1], model_name='m2', print_values=False)\n",
    "    test_losses.append(l)\n",
    "    test_accuracies.append(a)"
   ]
  },
  {
   "cell_type": "code",
   "execution_count": 41,
   "metadata": {},
   "outputs": [
    {
     "data": {
      "image/png": "[encoded data removed]",
      "text/plain": [
       "<Figure size 576x576 with 1 Axes>"
      ]
     },
     "metadata": {
      "needs_background": "light"
     },
     "output_type": "display_data"
    }
   ],
   "source": [
    "# Plot curve of loss over #words in comment\n",
    "fig, ax = plt.subplots(figsize=(8, 8))\n",
    "ax.plot(max_words_list, test_losses)\n",
    "plt.title(\"Loss over #Words\")\n",
    "plt.xlabel(\"#Words in comment\")\n",
    "plt.ylabel(\"Loss\")\n",
    "plt.show()"
   ]
  },
  {
   "cell_type": "code",
   "execution_count": 42,
   "metadata": {},
   "outputs": [
    {
     "data": {
      "image/png": "[encoded data removed]",
      "text/plain": [
       "<Figure size 576x576 with 1 Axes>"
      ]
     },
     "metadata": {
      "needs_background": "light"
     },
     "output_type": "display_data"
    }
   ],
   "source": [
    "# Plot curve of accuracy over #words in comment\n",
    "fig, ax = plt.subplots(figsize=(8, 8))\n",
    "ax.plot(max_words_list, test_accuracies)\n",
    "plt.title(\"Accuracy over #Words\")\n",
    "plt.xlabel(\"#Words in comment\")\n",
    "plt.ylabel(\"Accuracy\")\n",
    "plt.show()"
   ]
  },
  {
   "cell_type": "markdown",
   "metadata": {},
   "source": [
    "### $Conclusion$\n",
    "\n",
    "Overall, the performances are still affected by the number of positive feature values (words in a comment). But there were less fluctuations, this could be because the combination of problems acssociating with episode 1's models has now shifted slightly to just the problem about the number of positive feature values."
   ]
  },
  {
   "cell_type": "markdown",
   "metadata": {},
   "source": [
    "# IX. Thank you\n",
    "\n",
    "Thank you for viewing my project. I hope it didn't bore you. See you in the next episode!"
   ]
  }
 ],
 "metadata": {
  "kernelspec": {
   "display_name": "Python 3",
   "language": "python",
   "name": "python3"
  },
  "language_info": {
   "codemirror_mode": {
    "name": "ipython",
    "version": 3
   },
   "file_extension": ".py",
   "mimetype": "text/x-python",
   "name": "python",
   "nbconvert_exporter": "python",
   "pygments_lexer": "ipython3",
   "version": "3.8.6"
  }
 },
 "nbformat": 4,
 "nbformat_minor": 4
}
